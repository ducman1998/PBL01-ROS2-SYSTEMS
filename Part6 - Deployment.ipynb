{
 "cells": [
  {
   "cell_type": "code",
   "execution_count": 3,
   "id": "b832ba9b-385f-4dfa-9e4d-e2f7a3876afe",
   "metadata": {},
   "outputs": [],
   "source": [
    "import joblib\n",
    "import matplotlib.pyplot as plt\n",
    "import numpy as np\n",
    "import cv2 \n",
    "import pandas as pd\n",
    "import shutil\n",
    "import os \n",
    "import torch\n",
    "import torchvision.models as models\n",
    "import torchvision.transforms as transforms\n",
    "from glob import glob\n",
    "from tqdm import tqdm\n",
    "from skimage.feature import hog, local_binary_pattern\n",
    "from PIL import Image\n",
    "from sklearn.neural_network import MLPClassifier"
   ]
  },
  {
   "cell_type": "code",
   "execution_count": 16,
   "id": "259c1ca7-db2a-4f70-b7a5-e6c08d5a99e0",
   "metadata": {},
   "outputs": [],
   "source": [
    "import warnings\n",
    "warnings.filterwarnings(\"ignore\")"
   ]
  },
  {
   "cell_type": "code",
   "execution_count": 32,
   "id": "f5188b62-bc64-4cbc-b008-366bd128a72b",
   "metadata": {},
   "outputs": [],
   "source": [
    "class ScrewClassifier():\n",
    "    def __init__(self, model_fp=\"mlp_classifier_PblHogResnet18_861Features_model_v02.pkl\", scaler_fp=\"scaler.pkl\"):\n",
    "        self.resnet18 = models.resnet18(pretrained=True)\n",
    "        # Remove the fully connected layer to get feature vectors\n",
    "        self.resnet18 = torch.nn.Sequential(*list(self.resnet18.children())[:-1])\n",
    "        self.resnet18.eval()  # Set the model to evaluation mode\n",
    "        \n",
    "        # Step 2: Define Image Preprocessing\n",
    "        self.preprocess = transforms.Compose([\n",
    "            transforms.Resize((224, 224)),  # Resize image to 224x224\n",
    "            transforms.ToTensor(),          # Convert image to tensor\n",
    "            transforms.Normalize(mean=[0.485, 0.456, 0.406], std=[0.229, 0.224, 0.225])  # Normalize\n",
    "        ])\n",
    "\n",
    "        self.scaler = joblib.load(scaler_fp)\n",
    "        # load trained model\n",
    "        self.trained_model = joblib.load(model_fp)\n",
    "    \n",
    "    def classify_screw(self, im_rgb, return_prob=False):\n",
    "        im_g = cv2.cvtColor(im_rgb, cv2.COLOR_RGB2GRAY)\n",
    "        hog_features = self.extract_hog_features(im_g)\n",
    "        lbp_features = self.extract_lbp_features(im_g)\n",
    "        resnet_features = self.extract_resnet18_features(im_rgb)\n",
    "        merged_features = np.concatenate([hog_features, lbp_features, resnet_features]).reshape(1,-1)\n",
    "        merged_features_scaled = self.scaler.transform(merged_features)\n",
    "        \n",
    "        if not return_prob:\n",
    "            return self.trained_model.predict(merged_features_scaled)[0]\n",
    "        else:\n",
    "            return self.trained_model.predict_proba(merged_features_scaled)[0]\n",
    "        \n",
    "    def extract_hog_features(self, im_g):\n",
    "        resized_image = cv2.resize(im_g, (64, 64))\n",
    "        hog_features, hog_image = hog(\n",
    "            resized_image,\n",
    "            orientations=9,  # Number of gradient orientations\n",
    "            pixels_per_cell=(16, 16),  # Size of cell\n",
    "            cells_per_block=(2, 2),  # Number of cells per block\n",
    "            block_norm='L2-Hys',  # Block normalization\n",
    "            visualize=True,  # Output HOG image\n",
    "            feature_vector=True,  # Return features as a vector\n",
    "            )\n",
    "        return hog_features\n",
    "\n",
    "    def extract_lbp_features(self, im_g):\n",
    "        radius = 3  # Radius of the circular neighborhood\n",
    "        n_points = 8 * radius  # Number of points in the circular neighborhood\n",
    "        lbp = local_binary_pattern(im_g, n_points, radius, method='uniform')\n",
    "        n_bins = 25\n",
    "        lbp_histogram, _ = np.histogram(lbp.ravel(), bins=n_bins, range=(0, n_bins))\n",
    "        \n",
    "        # Normalize the histogram\n",
    "        lbp_histogram = lbp_histogram.astype(\"float\")\n",
    "        lbp_histogram /= (lbp_histogram.sum() + 1e-6)\n",
    "        return lbp_histogram \n",
    "\n",
    "    def extract_resnet18_features(self, im_rgb):\n",
    "        image = Image.fromarray(im_rgb)\n",
    "        input_tensor = self.preprocess(image).unsqueeze(0)  # Preprocess and add batch dimension\n",
    "        with torch.no_grad():\n",
    "            features = self.resnet18(input_tensor).squeeze().numpy()  # Extract and convert to NumPy array\n",
    "        return features "
   ]
  },
  {
   "cell_type": "code",
   "execution_count": 33,
   "id": "be7c9635-de50-4aa7-883d-9b126494d213",
   "metadata": {},
   "outputs": [],
   "source": [
    "classifier = ScrewClassifier(\"mlp_classifier_PblHogResnet18_861Features_model_v02.pkl\")"
   ]
  },
  {
   "cell_type": "code",
   "execution_count": 39,
   "id": "a29544a8-a837-4b0b-93be-93164fb014f4",
   "metadata": {},
   "outputs": [
    {
     "name": "stderr",
     "output_type": "stream",
     "text": [
      "100%|██████████████████████████████████████████████████████████████████████████████████████████████████████████████████████| 120/120 [00:07<00:00, 15.52it/s]"
     ]
    },
    {
     "name": "stdout",
     "output_type": "stream",
     "text": [
      "Test acc on class 0: 1.0\n"
     ]
    },
    {
     "name": "stderr",
     "output_type": "stream",
     "text": [
      "\n"
     ]
    }
   ],
   "source": [
    "class0_image_fps = glob(\"mixed_datasets/test/others/*.jpg\")\n",
    "num_correct_cls0 = 0\n",
    "for fp in tqdm(class0_image_fps):\n",
    "    screw_im = cv2.cvtColor(cv2.imread(fp), cv2.COLOR_BGR2RGB)\n",
    "    pred_class = classifier.classify_screw(screw_im)\n",
    "    if pred_class == 0:\n",
    "        num_correct_cls0 += 1 \n",
    "print(f\"Test acc on class 0: {num_correct_cls0/len(class0_image_fps)}\")"
   ]
  },
  {
   "cell_type": "code",
   "execution_count": 40,
   "id": "9061f226-a06a-44fc-8d2d-5af98c59f580",
   "metadata": {},
   "outputs": [
    {
     "name": "stderr",
     "output_type": "stream",
     "text": [
      "100%|████████████████████████████████████████████████████████████████████████████████████████████████████████████████████████| 32/32 [00:02<00:00, 15.35it/s]"
     ]
    },
    {
     "name": "stdout",
     "output_type": "stream",
     "text": [
      "Test acc on class 1: 0.25\n"
     ]
    },
    {
     "name": "stderr",
     "output_type": "stream",
     "text": [
      "\n"
     ]
    }
   ],
   "source": [
    "class1_image_fps = glob(\"mixed_datasets/test/irex/*.jpg\")\n",
    "num_correct_cls1 = 0\n",
    "for fp in tqdm(class1_image_fps):\n",
    "    screw_im = cv2.cvtColor(cv2.imread(fp), cv2.COLOR_BGR2RGB)\n",
    "    pred_class = classifier.classify_screw(screw_im)\n",
    "    if pred_class == 1:\n",
    "        num_correct_cls1 += 1 \n",
    "print(f\"Test acc on class 1: {num_correct_cls1/len(class0_image_fps)}\")"
   ]
  },
  {
   "cell_type": "code",
   "execution_count": 41,
   "id": "b0299095-d718-45e4-a15f-c0c98b1d61cb",
   "metadata": {},
   "outputs": [
    {
     "name": "stdout",
     "output_type": "stream",
     "text": [
      "Final test accuracy: 0.9868421052631579\n"
     ]
    }
   ],
   "source": [
    "print(f\"Final test accuracy: {(num_correct_cls1+num_correct_cls0)/(len(class1_image_fps) + len(class0_image_fps))}\")"
   ]
  },
  {
   "cell_type": "code",
   "execution_count": null,
   "id": "19f4e12f-719b-478a-b271-39306053fd10",
   "metadata": {},
   "outputs": [],
   "source": []
  }
 ],
 "metadata": {
  "kernelspec": {
   "display_name": "Python 3 (ipykernel)",
   "language": "python",
   "name": "python3"
  },
  "language_info": {
   "codemirror_mode": {
    "name": "ipython",
    "version": 3
   },
   "file_extension": ".py",
   "mimetype": "text/x-python",
   "name": "python",
   "nbconvert_exporter": "python",
   "pygments_lexer": "ipython3",
   "version": "3.8.20"
  }
 },
 "nbformat": 4,
 "nbformat_minor": 5
}
