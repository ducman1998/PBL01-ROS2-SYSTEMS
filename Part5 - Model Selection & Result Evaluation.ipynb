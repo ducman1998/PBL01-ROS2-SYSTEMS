{
 "cells": [
  {
   "cell_type": "code",
   "execution_count": 47,
   "id": "f3b85cc6-c93e-4db9-86a3-c39418b4700e",
   "metadata": {},
   "outputs": [],
   "source": [
    "import matplotlib.pyplot as plt\n",
    "import numpy as np\n",
    "import cv2 \n",
    "import pandas as pd\n",
    "import shutil\n",
    "import os \n",
    "import joblib"
   ]
  },
  {
   "cell_type": "code",
   "execution_count": 36,
   "id": "56c940d3-716c-4789-98ee-2e8de6e99452",
   "metadata": {},
   "outputs": [],
   "source": [
    "import pandas as pd\n",
    "import numpy as np\n",
    "import seaborn as sns\n",
    "import matplotlib.pyplot as plt\n",
    "from tqdm import tqdm\n",
    "from sklearn.model_selection import train_test_split\n",
    "from sklearn.impute import SimpleImputer\n",
    "from sklearn.covariance import EllipticEnvelope\n",
    "from matplotlib import rcParams\n",
    "from sklearn.preprocessing import MinMaxScaler\n",
    "from sklearn.tree import DecisionTreeRegressor\n",
    "from sklearn.feature_selection import RFE\n",
    "from sklearn.preprocessing import PolynomialFeatures\n",
    "from sklearn.linear_model import LinearRegression\n",
    "from sklearn.ensemble import RandomForestRegressor\n",
    "from sklearn.model_selection import cross_val_score\n",
    "from sklearn.svm import SVR\n",
    "from sklearn.neural_network import MLPRegressor\n",
    "from sklearn.metrics import r2_score, make_scorer\n",
    "from tqdm import tqdm\n",
    "import time\n",
    "from sklearn.decomposition import PCA\n",
    "from sklearn.preprocessing import StandardScaler\n",
    "from sklearn.neural_network import MLPClassifier\n",
    "from sklearn.metrics import accuracy_score\n",
    "from sklearn.ensemble import RandomForestClassifier\n",
    "from sklearn.model_selection import cross_val_score\n",
    "from sklearn.svm import SVR\n",
    "from sklearn.neural_network import MLPClassifier\n",
    "from sklearn.metrics import r2_score, make_scorer\n",
    "from tqdm import tqdm\n",
    "from sklearn.neighbors import KNeighborsClassifier"
   ]
  },
  {
   "cell_type": "code",
   "execution_count": 37,
   "id": "2993eaa1-d372-4462-9c0d-2f2c5a611f1f",
   "metadata": {
    "scrolled": true
   },
   "outputs": [
    {
     "name": "stdout",
     "output_type": "stream",
     "text": [
      "(2147, 865)\n",
      "Num features: HOG (324) | LBP (25) | Resnet18 (512)\n"
     ]
    },
    {
     "data": {
      "text/html": [
       "<div>\n",
       "<style scoped>\n",
       "    .dataframe tbody tr th:only-of-type {\n",
       "        vertical-align: middle;\n",
       "    }\n",
       "\n",
       "    .dataframe tbody tr th {\n",
       "        vertical-align: top;\n",
       "    }\n",
       "\n",
       "    .dataframe thead th {\n",
       "        text-align: right;\n",
       "    }\n",
       "</style>\n",
       "<table border=\"1\" class=\"dataframe\">\n",
       "  <thead>\n",
       "    <tr style=\"text-align: right;\">\n",
       "      <th></th>\n",
       "      <th>filename</th>\n",
       "      <th>set</th>\n",
       "      <th>is_augmented</th>\n",
       "      <th>label</th>\n",
       "      <th>hog_1</th>\n",
       "      <th>hog_2</th>\n",
       "      <th>hog_3</th>\n",
       "      <th>hog_4</th>\n",
       "      <th>hog_5</th>\n",
       "      <th>hog_6</th>\n",
       "      <th>...</th>\n",
       "      <th>R18_503</th>\n",
       "      <th>R18_504</th>\n",
       "      <th>R18_505</th>\n",
       "      <th>R18_506</th>\n",
       "      <th>R18_507</th>\n",
       "      <th>R18_508</th>\n",
       "      <th>R18_509</th>\n",
       "      <th>R18_510</th>\n",
       "      <th>R18_511</th>\n",
       "      <th>R18_512</th>\n",
       "    </tr>\n",
       "  </thead>\n",
       "  <tbody>\n",
       "    <tr>\n",
       "      <th>0</th>\n",
       "      <td>22_png.rf.31843c8a3d74795b58f1e718b5eed556.jpg</td>\n",
       "      <td>test</td>\n",
       "      <td>0</td>\n",
       "      <td>1</td>\n",
       "      <td>0.238798</td>\n",
       "      <td>0.206600</td>\n",
       "      <td>0.238798</td>\n",
       "      <td>0.085922</td>\n",
       "      <td>0.094069</td>\n",
       "      <td>0.034114</td>\n",
       "      <td>...</td>\n",
       "      <td>0.913866</td>\n",
       "      <td>0.524153</td>\n",
       "      <td>2.012202</td>\n",
       "      <td>1.042136</td>\n",
       "      <td>1.226978</td>\n",
       "      <td>0.258365</td>\n",
       "      <td>0.838587</td>\n",
       "      <td>0.108025</td>\n",
       "      <td>0.944895</td>\n",
       "      <td>0.414115</td>\n",
       "    </tr>\n",
       "    <tr>\n",
       "      <th>1</th>\n",
       "      <td>pose07_1_2_3.jpg</td>\n",
       "      <td>test</td>\n",
       "      <td>0</td>\n",
       "      <td>1</td>\n",
       "      <td>0.105851</td>\n",
       "      <td>0.010030</td>\n",
       "      <td>0.033357</td>\n",
       "      <td>0.044995</td>\n",
       "      <td>0.074824</td>\n",
       "      <td>0.032313</td>\n",
       "      <td>...</td>\n",
       "      <td>0.109936</td>\n",
       "      <td>0.047731</td>\n",
       "      <td>1.073908</td>\n",
       "      <td>1.094541</td>\n",
       "      <td>5.629246</td>\n",
       "      <td>0.000000</td>\n",
       "      <td>0.070865</td>\n",
       "      <td>1.159087</td>\n",
       "      <td>0.586770</td>\n",
       "      <td>0.579860</td>\n",
       "    </tr>\n",
       "    <tr>\n",
       "      <th>2</th>\n",
       "      <td>pose07_1_3_2.jpg</td>\n",
       "      <td>test</td>\n",
       "      <td>0</td>\n",
       "      <td>1</td>\n",
       "      <td>0.063727</td>\n",
       "      <td>0.015057</td>\n",
       "      <td>0.020632</td>\n",
       "      <td>0.029595</td>\n",
       "      <td>0.046573</td>\n",
       "      <td>0.015193</td>\n",
       "      <td>...</td>\n",
       "      <td>0.204381</td>\n",
       "      <td>0.188164</td>\n",
       "      <td>0.494481</td>\n",
       "      <td>2.225845</td>\n",
       "      <td>5.937500</td>\n",
       "      <td>0.000000</td>\n",
       "      <td>0.040817</td>\n",
       "      <td>0.642517</td>\n",
       "      <td>0.456618</td>\n",
       "      <td>0.256816</td>\n",
       "    </tr>\n",
       "    <tr>\n",
       "      <th>3</th>\n",
       "      <td>pose07_1_3_3.jpg</td>\n",
       "      <td>test</td>\n",
       "      <td>0</td>\n",
       "      <td>1</td>\n",
       "      <td>0.096622</td>\n",
       "      <td>0.028979</td>\n",
       "      <td>0.048910</td>\n",
       "      <td>0.069154</td>\n",
       "      <td>0.103628</td>\n",
       "      <td>0.033462</td>\n",
       "      <td>...</td>\n",
       "      <td>0.136055</td>\n",
       "      <td>0.144617</td>\n",
       "      <td>0.952040</td>\n",
       "      <td>1.355797</td>\n",
       "      <td>4.590340</td>\n",
       "      <td>0.087289</td>\n",
       "      <td>0.089996</td>\n",
       "      <td>1.743022</td>\n",
       "      <td>0.648363</td>\n",
       "      <td>0.576937</td>\n",
       "    </tr>\n",
       "    <tr>\n",
       "      <th>4</th>\n",
       "      <td>pose07_2_2_2.jpg</td>\n",
       "      <td>test</td>\n",
       "      <td>0</td>\n",
       "      <td>1</td>\n",
       "      <td>0.047135</td>\n",
       "      <td>0.024314</td>\n",
       "      <td>0.024849</td>\n",
       "      <td>0.028498</td>\n",
       "      <td>0.039671</td>\n",
       "      <td>0.017994</td>\n",
       "      <td>...</td>\n",
       "      <td>0.074890</td>\n",
       "      <td>0.561100</td>\n",
       "      <td>0.283085</td>\n",
       "      <td>1.325580</td>\n",
       "      <td>3.964945</td>\n",
       "      <td>0.000000</td>\n",
       "      <td>0.225154</td>\n",
       "      <td>0.180300</td>\n",
       "      <td>0.003969</td>\n",
       "      <td>0.152804</td>\n",
       "    </tr>\n",
       "  </tbody>\n",
       "</table>\n",
       "<p>5 rows × 865 columns</p>\n",
       "</div>"
      ],
      "text/plain": [
       "                                         filename   set  is_augmented  label  \\\n",
       "0  22_png.rf.31843c8a3d74795b58f1e718b5eed556.jpg  test             0      1   \n",
       "1                                pose07_1_2_3.jpg  test             0      1   \n",
       "2                                pose07_1_3_2.jpg  test             0      1   \n",
       "3                                pose07_1_3_3.jpg  test             0      1   \n",
       "4                                pose07_2_2_2.jpg  test             0      1   \n",
       "\n",
       "      hog_1     hog_2     hog_3     hog_4     hog_5     hog_6  ...   R18_503  \\\n",
       "0  0.238798  0.206600  0.238798  0.085922  0.094069  0.034114  ...  0.913866   \n",
       "1  0.105851  0.010030  0.033357  0.044995  0.074824  0.032313  ...  0.109936   \n",
       "2  0.063727  0.015057  0.020632  0.029595  0.046573  0.015193  ...  0.204381   \n",
       "3  0.096622  0.028979  0.048910  0.069154  0.103628  0.033462  ...  0.136055   \n",
       "4  0.047135  0.024314  0.024849  0.028498  0.039671  0.017994  ...  0.074890   \n",
       "\n",
       "    R18_504   R18_505   R18_506   R18_507   R18_508   R18_509   R18_510  \\\n",
       "0  0.524153  2.012202  1.042136  1.226978  0.258365  0.838587  0.108025   \n",
       "1  0.047731  1.073908  1.094541  5.629246  0.000000  0.070865  1.159087   \n",
       "2  0.188164  0.494481  2.225845  5.937500  0.000000  0.040817  0.642517   \n",
       "3  0.144617  0.952040  1.355797  4.590340  0.087289  0.089996  1.743022   \n",
       "4  0.561100  0.283085  1.325580  3.964945  0.000000  0.225154  0.180300   \n",
       "\n",
       "    R18_511   R18_512  \n",
       "0  0.944895  0.414115  \n",
       "1  0.586770  0.579860  \n",
       "2  0.456618  0.256816  \n",
       "3  0.648363  0.576937  \n",
       "4  0.003969  0.152804  \n",
       "\n",
       "[5 rows x 865 columns]"
      ]
     },
     "execution_count": 37,
     "metadata": {},
     "output_type": "execute_result"
    }
   ],
   "source": [
    "dataDF = pd.read_csv(\"mixed_dataset_w_features_v1.csv\")\n",
    "print(dataDF.shape)\n",
    "num_resnet_features = len([n for n in dataDF.columns if \"R18\" in n])\n",
    "num_hog_features = len([n for n in dataDF.columns if \"hog\" in n])\n",
    "num_lbp_features = len([n for n in dataDF.columns if \"lbp\" in n])\n",
    "print(f\"Num features: HOG ({num_hog_features}) | LBP ({num_lbp_features}) | Resnet18 ({num_resnet_features})\")\n",
    "dataDF.head()"
   ]
  },
  {
   "cell_type": "markdown",
   "id": "8754c79e-7557-46ae-90ef-ff563e756028",
   "metadata": {},
   "source": [
    "## Data split"
   ]
  },
  {
   "cell_type": "code",
   "execution_count": 4,
   "id": "edcbba74-f36c-413f-b51a-673615bee345",
   "metadata": {},
   "outputs": [
    {
     "name": "stdout",
     "output_type": "stream",
     "text": [
      "(1533, 865) (462, 865) (152, 865)\n"
     ]
    },
    {
     "data": {
      "text/plain": [
       "((1533, 861), (1533, 1), (462, 861), (462, 1), (152, 861), (152, 1))"
      ]
     },
     "execution_count": 4,
     "metadata": {},
     "output_type": "execute_result"
    }
   ],
   "source": [
    "trainDF = dataDF[dataDF.set == \"train\"]\n",
    "Ytrain = trainDF[[\"label\"]]\n",
    "Xtrain = trainDF.drop(columns=[\"filename\", \"set\", \"is_augmented\", \"label\"])\n",
    "validDF = dataDF[dataDF.set == \"validation\"]\n",
    "Yval = validDF[[\"label\"]]\n",
    "Xval = validDF.drop(columns=[\"filename\", \"set\", \"is_augmented\", \"label\"])\n",
    "testDF = dataDF[dataDF.set == \"test\"]\n",
    "Ytest = testDF[[\"label\"]]\n",
    "Xtest = testDF.drop(columns=[\"filename\", \"set\", \"is_augmented\", \"label\"])\n",
    "print(trainDF.shape, validDF.shape, testDF.shape)\n",
    "Xtrain.shape, Ytrain.shape, Xval.shape, Yval.shape, Xtest.shape, Ytest.shape"
   ]
  },
  {
   "cell_type": "markdown",
   "id": "82f84be4-a768-4f76-9611-c2b0456cbe89",
   "metadata": {},
   "source": [
    "## Prepocessing dataset"
   ]
  },
  {
   "cell_type": "markdown",
   "id": "003842ae-fc1e-485e-b5eb-5d8a27096bbb",
   "metadata": {},
   "source": [
    "### Check missing values"
   ]
  },
  {
   "cell_type": "code",
   "execution_count": 5,
   "id": "16042980-7ddf-4c42-90a1-8f06581c330b",
   "metadata": {},
   "outputs": [
    {
     "name": "stdout",
     "output_type": "stream",
     "text": [
      "Total missing value count:\n",
      " 0\n"
     ]
    }
   ],
   "source": [
    "missing_per_column = dataDF.isnull().sum()\n",
    "print(\"Total missing value count:\\n\", sum(missing_per_column))"
   ]
  },
  {
   "cell_type": "markdown",
   "id": "e5458473-4bb8-4fa4-a951-f113a3b03cb5",
   "metadata": {},
   "source": [
    "### Check range of features"
   ]
  },
  {
   "cell_type": "code",
   "execution_count": 6,
   "id": "02cc8242-2d2e-4dbb-9c0d-93c2e06932ea",
   "metadata": {},
   "outputs": [
    {
     "data": {
      "text/html": [
       "<div>\n",
       "<style scoped>\n",
       "    .dataframe tbody tr th:only-of-type {\n",
       "        vertical-align: middle;\n",
       "    }\n",
       "\n",
       "    .dataframe tbody tr th {\n",
       "        vertical-align: top;\n",
       "    }\n",
       "\n",
       "    .dataframe thead th {\n",
       "        text-align: right;\n",
       "    }\n",
       "</style>\n",
       "<table border=\"1\" class=\"dataframe\">\n",
       "  <thead>\n",
       "    <tr style=\"text-align: right;\">\n",
       "      <th></th>\n",
       "      <th>is_augmented</th>\n",
       "      <th>label</th>\n",
       "      <th>hog_1</th>\n",
       "      <th>hog_2</th>\n",
       "      <th>hog_3</th>\n",
       "      <th>hog_4</th>\n",
       "      <th>hog_5</th>\n",
       "      <th>hog_6</th>\n",
       "      <th>hog_7</th>\n",
       "      <th>hog_8</th>\n",
       "      <th>...</th>\n",
       "      <th>R18_503</th>\n",
       "      <th>R18_504</th>\n",
       "      <th>R18_505</th>\n",
       "      <th>R18_506</th>\n",
       "      <th>R18_507</th>\n",
       "      <th>R18_508</th>\n",
       "      <th>R18_509</th>\n",
       "      <th>R18_510</th>\n",
       "      <th>R18_511</th>\n",
       "      <th>R18_512</th>\n",
       "    </tr>\n",
       "  </thead>\n",
       "  <tbody>\n",
       "    <tr>\n",
       "      <th>count</th>\n",
       "      <td>2147.000000</td>\n",
       "      <td>2147.000000</td>\n",
       "      <td>2147.000000</td>\n",
       "      <td>2147.000000</td>\n",
       "      <td>2147.000000</td>\n",
       "      <td>2147.000000</td>\n",
       "      <td>2147.000000</td>\n",
       "      <td>2147.000000</td>\n",
       "      <td>2147.000000</td>\n",
       "      <td>2147.000000</td>\n",
       "      <td>...</td>\n",
       "      <td>2147.000000</td>\n",
       "      <td>2147.000000</td>\n",
       "      <td>2147.000000</td>\n",
       "      <td>2147.000000</td>\n",
       "      <td>2147.000000</td>\n",
       "      <td>2147.000000</td>\n",
       "      <td>2147.000000</td>\n",
       "      <td>2147.000000</td>\n",
       "      <td>2147.000000</td>\n",
       "      <td>2147.000000</td>\n",
       "    </tr>\n",
       "    <tr>\n",
       "      <th>mean</th>\n",
       "      <td>0.394038</td>\n",
       "      <td>0.272939</td>\n",
       "      <td>0.160152</td>\n",
       "      <td>0.075648</td>\n",
       "      <td>0.108387</td>\n",
       "      <td>0.073658</td>\n",
       "      <td>0.166399</td>\n",
       "      <td>0.038362</td>\n",
       "      <td>0.032559</td>\n",
       "      <td>0.026210</td>\n",
       "      <td>...</td>\n",
       "      <td>0.302849</td>\n",
       "      <td>0.861067</td>\n",
       "      <td>0.746226</td>\n",
       "      <td>1.311672</td>\n",
       "      <td>2.489634</td>\n",
       "      <td>0.495940</td>\n",
       "      <td>0.708239</td>\n",
       "      <td>0.747933</td>\n",
       "      <td>0.381378</td>\n",
       "      <td>0.488235</td>\n",
       "    </tr>\n",
       "    <tr>\n",
       "      <th>std</th>\n",
       "      <td>0.488757</td>\n",
       "      <td>0.445574</td>\n",
       "      <td>0.114052</td>\n",
       "      <td>0.074631</td>\n",
       "      <td>0.093214</td>\n",
       "      <td>0.074398</td>\n",
       "      <td>0.122324</td>\n",
       "      <td>0.035457</td>\n",
       "      <td>0.029767</td>\n",
       "      <td>0.026941</td>\n",
       "      <td>...</td>\n",
       "      <td>0.362570</td>\n",
       "      <td>0.695494</td>\n",
       "      <td>0.572148</td>\n",
       "      <td>0.750822</td>\n",
       "      <td>1.619127</td>\n",
       "      <td>0.557137</td>\n",
       "      <td>0.622040</td>\n",
       "      <td>0.629187</td>\n",
       "      <td>0.403147</td>\n",
       "      <td>0.457777</td>\n",
       "    </tr>\n",
       "    <tr>\n",
       "      <th>min</th>\n",
       "      <td>0.000000</td>\n",
       "      <td>0.000000</td>\n",
       "      <td>0.000000</td>\n",
       "      <td>0.000000</td>\n",
       "      <td>0.000000</td>\n",
       "      <td>0.000000</td>\n",
       "      <td>0.000000</td>\n",
       "      <td>0.000000</td>\n",
       "      <td>0.000000</td>\n",
       "      <td>0.000000</td>\n",
       "      <td>...</td>\n",
       "      <td>0.000000</td>\n",
       "      <td>0.000000</td>\n",
       "      <td>0.000000</td>\n",
       "      <td>0.000000</td>\n",
       "      <td>0.000000</td>\n",
       "      <td>0.000000</td>\n",
       "      <td>0.000000</td>\n",
       "      <td>0.000000</td>\n",
       "      <td>0.000000</td>\n",
       "      <td>0.000000</td>\n",
       "    </tr>\n",
       "    <tr>\n",
       "      <th>25%</th>\n",
       "      <td>0.000000</td>\n",
       "      <td>0.000000</td>\n",
       "      <td>0.058795</td>\n",
       "      <td>0.020134</td>\n",
       "      <td>0.035532</td>\n",
       "      <td>0.025287</td>\n",
       "      <td>0.052662</td>\n",
       "      <td>0.015721</td>\n",
       "      <td>0.013800</td>\n",
       "      <td>0.010548</td>\n",
       "      <td>...</td>\n",
       "      <td>0.058475</td>\n",
       "      <td>0.321432</td>\n",
       "      <td>0.295397</td>\n",
       "      <td>0.782633</td>\n",
       "      <td>0.851015</td>\n",
       "      <td>0.118147</td>\n",
       "      <td>0.234841</td>\n",
       "      <td>0.280629</td>\n",
       "      <td>0.073847</td>\n",
       "      <td>0.120517</td>\n",
       "    </tr>\n",
       "    <tr>\n",
       "      <th>50%</th>\n",
       "      <td>0.000000</td>\n",
       "      <td>0.000000</td>\n",
       "      <td>0.126920</td>\n",
       "      <td>0.046755</td>\n",
       "      <td>0.069498</td>\n",
       "      <td>0.044860</td>\n",
       "      <td>0.134131</td>\n",
       "      <td>0.028439</td>\n",
       "      <td>0.025260</td>\n",
       "      <td>0.018692</td>\n",
       "      <td>...</td>\n",
       "      <td>0.180027</td>\n",
       "      <td>0.656088</td>\n",
       "      <td>0.657694</td>\n",
       "      <td>1.208026</td>\n",
       "      <td>2.651322</td>\n",
       "      <td>0.300628</td>\n",
       "      <td>0.539808</td>\n",
       "      <td>0.596000</td>\n",
       "      <td>0.273506</td>\n",
       "      <td>0.347002</td>\n",
       "    </tr>\n",
       "    <tr>\n",
       "      <th>75%</th>\n",
       "      <td>1.000000</td>\n",
       "      <td>1.000000</td>\n",
       "      <td>0.262556</td>\n",
       "      <td>0.108637</td>\n",
       "      <td>0.168094</td>\n",
       "      <td>0.096017</td>\n",
       "      <td>0.275888</td>\n",
       "      <td>0.049422</td>\n",
       "      <td>0.041808</td>\n",
       "      <td>0.032519</td>\n",
       "      <td>...</td>\n",
       "      <td>0.418664</td>\n",
       "      <td>1.262759</td>\n",
       "      <td>1.056380</td>\n",
       "      <td>1.715769</td>\n",
       "      <td>3.753782</td>\n",
       "      <td>0.676610</td>\n",
       "      <td>0.998782</td>\n",
       "      <td>1.055147</td>\n",
       "      <td>0.539087</td>\n",
       "      <td>0.734269</td>\n",
       "    </tr>\n",
       "    <tr>\n",
       "      <th>max</th>\n",
       "      <td>1.000000</td>\n",
       "      <td>1.000000</td>\n",
       "      <td>0.523001</td>\n",
       "      <td>0.370885</td>\n",
       "      <td>0.448290</td>\n",
       "      <td>0.375767</td>\n",
       "      <td>0.496237</td>\n",
       "      <td>0.249804</td>\n",
       "      <td>0.262132</td>\n",
       "      <td>0.267452</td>\n",
       "      <td>...</td>\n",
       "      <td>3.212196</td>\n",
       "      <td>5.186174</td>\n",
       "      <td>3.659534</td>\n",
       "      <td>6.014655</td>\n",
       "      <td>6.658197</td>\n",
       "      <td>4.599405</td>\n",
       "      <td>3.456626</td>\n",
       "      <td>4.588000</td>\n",
       "      <td>2.971324</td>\n",
       "      <td>3.271028</td>\n",
       "    </tr>\n",
       "  </tbody>\n",
       "</table>\n",
       "<p>8 rows × 863 columns</p>\n",
       "</div>"
      ],
      "text/plain": [
       "       is_augmented        label        hog_1        hog_2        hog_3  \\\n",
       "count   2147.000000  2147.000000  2147.000000  2147.000000  2147.000000   \n",
       "mean       0.394038     0.272939     0.160152     0.075648     0.108387   \n",
       "std        0.488757     0.445574     0.114052     0.074631     0.093214   \n",
       "min        0.000000     0.000000     0.000000     0.000000     0.000000   \n",
       "25%        0.000000     0.000000     0.058795     0.020134     0.035532   \n",
       "50%        0.000000     0.000000     0.126920     0.046755     0.069498   \n",
       "75%        1.000000     1.000000     0.262556     0.108637     0.168094   \n",
       "max        1.000000     1.000000     0.523001     0.370885     0.448290   \n",
       "\n",
       "             hog_4        hog_5        hog_6        hog_7        hog_8  ...  \\\n",
       "count  2147.000000  2147.000000  2147.000000  2147.000000  2147.000000  ...   \n",
       "mean      0.073658     0.166399     0.038362     0.032559     0.026210  ...   \n",
       "std       0.074398     0.122324     0.035457     0.029767     0.026941  ...   \n",
       "min       0.000000     0.000000     0.000000     0.000000     0.000000  ...   \n",
       "25%       0.025287     0.052662     0.015721     0.013800     0.010548  ...   \n",
       "50%       0.044860     0.134131     0.028439     0.025260     0.018692  ...   \n",
       "75%       0.096017     0.275888     0.049422     0.041808     0.032519  ...   \n",
       "max       0.375767     0.496237     0.249804     0.262132     0.267452  ...   \n",
       "\n",
       "           R18_503      R18_504      R18_505      R18_506      R18_507  \\\n",
       "count  2147.000000  2147.000000  2147.000000  2147.000000  2147.000000   \n",
       "mean      0.302849     0.861067     0.746226     1.311672     2.489634   \n",
       "std       0.362570     0.695494     0.572148     0.750822     1.619127   \n",
       "min       0.000000     0.000000     0.000000     0.000000     0.000000   \n",
       "25%       0.058475     0.321432     0.295397     0.782633     0.851015   \n",
       "50%       0.180027     0.656088     0.657694     1.208026     2.651322   \n",
       "75%       0.418664     1.262759     1.056380     1.715769     3.753782   \n",
       "max       3.212196     5.186174     3.659534     6.014655     6.658197   \n",
       "\n",
       "           R18_508      R18_509      R18_510      R18_511      R18_512  \n",
       "count  2147.000000  2147.000000  2147.000000  2147.000000  2147.000000  \n",
       "mean      0.495940     0.708239     0.747933     0.381378     0.488235  \n",
       "std       0.557137     0.622040     0.629187     0.403147     0.457777  \n",
       "min       0.000000     0.000000     0.000000     0.000000     0.000000  \n",
       "25%       0.118147     0.234841     0.280629     0.073847     0.120517  \n",
       "50%       0.300628     0.539808     0.596000     0.273506     0.347002  \n",
       "75%       0.676610     0.998782     1.055147     0.539087     0.734269  \n",
       "max       4.599405     3.456626     4.588000     2.971324     3.271028  \n",
       "\n",
       "[8 rows x 863 columns]"
      ]
     },
     "execution_count": 6,
     "metadata": {},
     "output_type": "execute_result"
    }
   ],
   "source": [
    "dataDF.describe()"
   ]
  },
  {
   "cell_type": "markdown",
   "id": "6958ffa6-da9d-49ea-9cd7-8575bb2d90c3",
   "metadata": {},
   "source": [
    "### Extract unaugmented train & valid data (no augmented samples in test set)"
   ]
  },
  {
   "cell_type": "code",
   "execution_count": 7,
   "id": "ce123144-c1b8-4044-bbe5-6726a1011a8f",
   "metadata": {},
   "outputs": [
    {
     "data": {
      "text/plain": [
       "((955, 861), (955, 1), (196, 861), (196, 1), (150, 861), (150, 1))"
      ]
     },
     "execution_count": 7,
     "metadata": {},
     "output_type": "execute_result"
    }
   ],
   "source": [
    "Xtrain_no_augmented = Xtrain[trainDF[\"is_augmented\"] == 0]\n",
    "Xval_no_augmented = Xval[validDF[\"is_augmented\"] == 0]\n",
    "Xtest_no_augmented = Xtest[testDF[\"is_augmented\"] == 0]\n",
    "\n",
    "Ytrain_no_augmented = Ytrain[trainDF[\"is_augmented\"] == 0]\n",
    "Yval_no_augmented = Yval[validDF[\"is_augmented\"] == 0]\n",
    "Ytest_no_augmented = Ytest[testDF[\"is_augmented\"] == 0]\n",
    "\n",
    "Xtrain_no_augmented.shape, Ytrain_no_augmented.shape, Xval_no_augmented.shape, Yval_no_augmented.shape, Xtest_no_augmented.shape, Ytest_no_augmented.shape"
   ]
  },
  {
   "cell_type": "markdown",
   "id": "405ae898-e22a-484f-b7d5-7cee560de724",
   "metadata": {},
   "source": [
    "### Compress data with PCA"
   ]
  },
  {
   "cell_type": "markdown",
   "id": "cf7cb377-e098-427e-b33f-a6bd1f48caf6",
   "metadata": {},
   "source": [
    "#### Normal data"
   ]
  },
  {
   "cell_type": "code",
   "execution_count": 8,
   "id": "20aee668-0a47-435d-8e9b-390caa561c8e",
   "metadata": {},
   "outputs": [],
   "source": [
    "scaler = StandardScaler()\n",
    "scaler.fit(Xtrain)\n",
    "Xtrain_scaled = scaler.transform(Xtrain)\n",
    "Xval_scaled = scaler.transform(Xval)\n",
    "Xtest_scaled = scaler.transform(Xtest)"
   ]
  },
  {
   "cell_type": "code",
   "execution_count": 9,
   "id": "20bcab91-ee9e-4628-a0d6-00a907b40f25",
   "metadata": {},
   "outputs": [
    {
     "data": {
      "text/plain": [
       "((1533, 100), (462, 100), (152, 100))"
      ]
     },
     "execution_count": 9,
     "metadata": {},
     "output_type": "execute_result"
    }
   ],
   "source": [
    "pca = PCA(n_components=100)  # Specify the number of components to keep\n",
    "\n",
    "# Fit and transform the data\n",
    "Xtrain_scaled_pca100 = pca.fit_transform(Xtrain_scaled)\n",
    "Xval_scaled_pca100 = pca.transform(Xval_scaled)\n",
    "Xtest_scaled_pca100 = pca.transform(Xtest_scaled)\n",
    "\n",
    "Xtrain_scaled_pca100.shape, Xval_scaled_pca100.shape, Xtest_scaled_pca100.shape"
   ]
  },
  {
   "cell_type": "markdown",
   "id": "ceaed872-0327-4c2b-9949-5a7e0958571a",
   "metadata": {},
   "source": [
    "#### Unaugmented data"
   ]
  },
  {
   "cell_type": "code",
   "execution_count": 10,
   "id": "a68e52b1-8fc0-4e62-ac54-9a9f34345f4e",
   "metadata": {},
   "outputs": [],
   "source": [
    "scaler_no_augmented = StandardScaler()\n",
    "scaler_no_augmented.fit(Xtrain_no_augmented)\n",
    "Xtrain_no_augmented_scaled = scaler_no_augmented.transform(Xtrain_no_augmented)\n",
    "Xval_no_augmented_scaled = scaler_no_augmented.transform(Xval_no_augmented)\n",
    "Xtest_no_augmented_scaled = scaler_no_augmented.transform(Xtest_no_augmented)"
   ]
  },
  {
   "cell_type": "code",
   "execution_count": 11,
   "id": "d7952ba3-7d88-4723-93cf-01db60b6f7b3",
   "metadata": {
    "scrolled": true
   },
   "outputs": [
    {
     "data": {
      "text/plain": [
       "((955, 100), (196, 100), (150, 100))"
      ]
     },
     "execution_count": 11,
     "metadata": {},
     "output_type": "execute_result"
    }
   ],
   "source": [
    "pca_no_augmented = PCA(n_components=100)  # Specify the number of components to keep\n",
    "\n",
    "# Fit and transform the data\n",
    "Xtrain_no_augmented_scaled_pca100 = pca_no_augmented.fit_transform(Xtrain_no_augmented_scaled)\n",
    "Xval_no_augmented_scaled_pca100 = pca_no_augmented.transform(Xval_no_augmented_scaled)\n",
    "Xtest_no_augmented_scaled_pca100 = pca_no_augmented.transform(Xtest_no_augmented_scaled)\n",
    "\n",
    "Xtrain_no_augmented_scaled_pca100.shape, Xval_no_augmented_scaled_pca100.shape, Xtest_no_augmented_scaled_pca100.shape"
   ]
  },
  {
   "cell_type": "markdown",
   "id": "f99ed7b7-e44a-43ab-9e04-e4a40098dd01",
   "metadata": {},
   "source": [
    "## Choose the best preprocessing method"
   ]
  },
  {
   "cell_type": "code",
   "execution_count": 12,
   "id": "b27eb78d-4de1-47d6-9d6e-d9f8f0e24850",
   "metadata": {},
   "outputs": [],
   "source": [
    "def validate_preprocessing_method(xtrain, xval, ytrain, yval):\n",
    "    if type(xtrain) is pd.DataFrame:\n",
    "        xtrain = xtrain.to_numpy()\n",
    "    if type(xval) is pd.DataFrame:\n",
    "        xval = xval.to_numpy()\n",
    "        \n",
    "    mlp_estimator = MLPClassifier(solver=\"sgd\", random_state=42)\n",
    "    mlp_estimator.fit(xtrain, ytrain['label'])\n",
    "    ypreds = mlp_estimator.predict(xval)\n",
    "    acc = accuracy_score(yval[\"label\"], ypreds)\n",
    "    start_time = time.time()\n",
    "    for i in range(100):\n",
    "        mlp_estimator.predict(np.reshape(xtrain[np.random.randint(0,100),:], (1,-1)))\n",
    "    end_time = time.time()\n",
    "    print(f\"Inference time per sample: {(end_time-start_time)/100} seconds\")\n",
    "    print(f\"Accuracy: {acc}\")\n",
    "    return acc"
   ]
  },
  {
   "cell_type": "markdown",
   "id": "eb09c6cf-a37f-4101-a598-c4fa52ddecc0",
   "metadata": {},
   "source": [
    "### Normal dataset"
   ]
  },
  {
   "cell_type": "code",
   "execution_count": 29,
   "id": "038fe58c-aa0c-4622-a807-15dd54d8951b",
   "metadata": {},
   "outputs": [
    {
     "name": "stdout",
     "output_type": "stream",
     "text": [
      "Inference time per sample: 0.00029176950454711914 seconds\n",
      "Accuracy: 0.9393939393939394\n"
     ]
    },
    {
     "name": "stderr",
     "output_type": "stream",
     "text": [
      "C:\\Users\\Lenovo\\miniconda3\\envs\\DA\\lib\\site-packages\\sklearn\\neural_network\\_multilayer_perceptron.py:691: ConvergenceWarning: Stochastic Optimizer: Maximum iterations (200) reached and the optimization hasn't converged yet.\n",
      "  warnings.warn(\n"
     ]
    },
    {
     "data": {
      "text/plain": [
       "0.9393939393939394"
      ]
     },
     "execution_count": 29,
     "metadata": {},
     "output_type": "execute_result"
    }
   ],
   "source": [
    "validate_preprocessing_method(Xtrain, Xval, Ytrain, Yval)"
   ]
  },
  {
   "cell_type": "markdown",
   "id": "1b078143-0958-4508-87ca-540921064226",
   "metadata": {},
   "source": [
    "### Normal dataset - HOG features only"
   ]
  },
  {
   "cell_type": "code",
   "execution_count": 14,
   "id": "62caf853-1d96-4685-8075-09d06c3bb544",
   "metadata": {},
   "outputs": [
    {
     "name": "stdout",
     "output_type": "stream",
     "text": [
      "Inference time per sample: 0.0011310482025146484 seconds\n",
      "Accuracy: 0.8961038961038961\n"
     ]
    },
    {
     "name": "stderr",
     "output_type": "stream",
     "text": [
      "C:\\Users\\Lenovo\\miniconda3\\envs\\DA\\lib\\site-packages\\sklearn\\neural_network\\_multilayer_perceptron.py:691: ConvergenceWarning: Stochastic Optimizer: Maximum iterations (200) reached and the optimization hasn't converged yet.\n",
      "  warnings.warn(\n"
     ]
    },
    {
     "data": {
      "text/plain": [
       "0.8961038961038961"
      ]
     },
     "execution_count": 14,
     "metadata": {},
     "output_type": "execute_result"
    }
   ],
   "source": [
    "hog_columns = [f\"hog_{i+1}\" for i in range(num_hog_features)]\n",
    "validate_preprocessing_method(Xtrain[hog_columns], Xval[hog_columns], Ytrain, Yval)"
   ]
  },
  {
   "cell_type": "markdown",
   "id": "b189d61d-33c9-4c99-b38f-903605d3564f",
   "metadata": {},
   "source": [
    "### Normal dataset - LBP features only"
   ]
  },
  {
   "cell_type": "code",
   "execution_count": 15,
   "id": "c0b37192-44e1-4523-89ea-e0973d261fd7",
   "metadata": {},
   "outputs": [
    {
     "name": "stdout",
     "output_type": "stream",
     "text": [
      "Inference time per sample: 7.724046707153321e-05 seconds\n",
      "Accuracy: 0.48268398268398266\n"
     ]
    },
    {
     "data": {
      "text/plain": [
       "0.48268398268398266"
      ]
     },
     "execution_count": 15,
     "metadata": {},
     "output_type": "execute_result"
    }
   ],
   "source": [
    "lbp_columns = [f\"lbp_{i+1}\" for i in range(num_lbp_features)]\n",
    "validate_preprocessing_method(Xtrain[lbp_columns], Xval[lbp_columns], Ytrain, Yval)"
   ]
  },
  {
   "cell_type": "markdown",
   "id": "75654c7f-09bc-4e3d-af79-f433daf1f279",
   "metadata": {},
   "source": [
    "### Normal dataset - Resnet18 features only"
   ]
  },
  {
   "cell_type": "code",
   "execution_count": 16,
   "id": "8e1c114e-b866-4a71-a87a-495b6961d6b4",
   "metadata": {},
   "outputs": [
    {
     "name": "stdout",
     "output_type": "stream",
     "text": [
      "Inference time per sample: 0.0007962727546691894 seconds\n",
      "Accuracy: 0.9523809523809523\n"
     ]
    },
    {
     "name": "stderr",
     "output_type": "stream",
     "text": [
      "C:\\Users\\Lenovo\\miniconda3\\envs\\DA\\lib\\site-packages\\sklearn\\neural_network\\_multilayer_perceptron.py:691: ConvergenceWarning: Stochastic Optimizer: Maximum iterations (200) reached and the optimization hasn't converged yet.\n",
      "  warnings.warn(\n"
     ]
    },
    {
     "data": {
      "text/plain": [
       "0.9523809523809523"
      ]
     },
     "execution_count": 16,
     "metadata": {},
     "output_type": "execute_result"
    }
   ],
   "source": [
    "resnet_columns = [f\"R18_{i+1}\" for i in range(num_resnet_features)]\n",
    "validate_preprocessing_method(Xtrain[resnet_columns], Xval[resnet_columns], Ytrain, Yval"
   ]
  },
  {
   "cell_type": "markdown",
   "id": "7a6910a5-0db9-42bc-91f7-2f7eadad54b9",
   "metadata": {},
   "source": [
    "### No augmented dataset"
   ]
  },
  {
   "cell_type": "code",
   "execution_count": 26,
   "id": "a439bf6e-27f4-49f8-9503-25bbefe6f833",
   "metadata": {},
   "outputs": [
    {
     "name": "stdout",
     "output_type": "stream",
     "text": [
      "Inference time per sample: 0.000319979190826416 seconds\n",
      "Accuracy: 0.9744897959183674\n"
     ]
    },
    {
     "name": "stderr",
     "output_type": "stream",
     "text": [
      "C:\\Users\\Lenovo\\miniconda3\\envs\\DA\\lib\\site-packages\\sklearn\\neural_network\\_multilayer_perceptron.py:691: ConvergenceWarning: Stochastic Optimizer: Maximum iterations (200) reached and the optimization hasn't converged yet.\n",
      "  warnings.warn(\n"
     ]
    },
    {
     "data": {
      "text/plain": [
       "0.9744897959183674"
      ]
     },
     "execution_count": 26,
     "metadata": {},
     "output_type": "execute_result"
    }
   ],
   "source": [
    "validate_preprocessing_method(Xtrain_no_augmented, Xval_no_augmented, Ytrain_no_augmented, Yval_no_augmented)"
   ]
  },
  {
   "cell_type": "markdown",
   "id": "8bb9713f-fbd1-460e-9c6c-dec635ae8219",
   "metadata": {},
   "source": [
    "### Scaled dataset"
   ]
  },
  {
   "cell_type": "code",
   "execution_count": 19,
   "id": "11c5410f-6542-4af6-9270-98212a6fc227",
   "metadata": {},
   "outputs": [
    {
     "name": "stdout",
     "output_type": "stream",
     "text": [
      "Inference time per sample: 0.0005600452423095703 seconds\n",
      "Accuracy: 0.9805194805194806\n"
     ]
    },
    {
     "data": {
      "text/plain": [
       "0.9805194805194806"
      ]
     },
     "execution_count": 19,
     "metadata": {},
     "output_type": "execute_result"
    }
   ],
   "source": [
    "validate_preprocessing_method(Xtrain_scaled, Xval_scaled, Ytrain, Yval)"
   ]
  },
  {
   "cell_type": "markdown",
   "id": "52383f4e-677f-4b1c-9e53-28c24a1f729c",
   "metadata": {},
   "source": [
    "### PCA dataset"
   ]
  },
  {
   "cell_type": "code",
   "execution_count": 20,
   "id": "cd46d1f7-5787-4427-ae5b-6e776f949c7e",
   "metadata": {},
   "outputs": [
    {
     "name": "stdout",
     "output_type": "stream",
     "text": [
      "Inference time per sample: 0.00046150922775268556 seconds\n",
      "Accuracy: 0.9761904761904762\n"
     ]
    },
    {
     "name": "stderr",
     "output_type": "stream",
     "text": [
      "C:\\Users\\Lenovo\\miniconda3\\envs\\DA\\lib\\site-packages\\sklearn\\neural_network\\_multilayer_perceptron.py:691: ConvergenceWarning: Stochastic Optimizer: Maximum iterations (200) reached and the optimization hasn't converged yet.\n",
      "  warnings.warn(\n"
     ]
    },
    {
     "data": {
      "text/plain": [
       "0.9761904761904762"
      ]
     },
     "execution_count": 20,
     "metadata": {},
     "output_type": "execute_result"
    }
   ],
   "source": [
    "validate_preprocessing_method(Xtrain_scaled_pca100, Xval_scaled_pca100, Ytrain, Yval)"
   ]
  },
  {
   "cell_type": "markdown",
   "id": "b0baaa99-dd2b-44e0-9b95-4c8ca4aef022",
   "metadata": {},
   "source": [
    "### No augmented - Scaled dataset "
   ]
  },
  {
   "cell_type": "code",
   "execution_count": 27,
   "id": "4d324109-45a9-498d-816b-7d4d76648afd",
   "metadata": {},
   "outputs": [
    {
     "name": "stdout",
     "output_type": "stream",
     "text": [
      "Inference time per sample: 0.0003251051902770996 seconds\n",
      "Accuracy: 0.9642857142857143\n"
     ]
    },
    {
     "name": "stderr",
     "output_type": "stream",
     "text": [
      "C:\\Users\\Lenovo\\miniconda3\\envs\\DA\\lib\\site-packages\\sklearn\\neural_network\\_multilayer_perceptron.py:691: ConvergenceWarning: Stochastic Optimizer: Maximum iterations (200) reached and the optimization hasn't converged yet.\n",
      "  warnings.warn(\n"
     ]
    },
    {
     "data": {
      "text/plain": [
       "0.9642857142857143"
      ]
     },
     "execution_count": 27,
     "metadata": {},
     "output_type": "execute_result"
    }
   ],
   "source": [
    "validate_preprocessing_method(Xtrain_no_augmented_scaled, Xval_no_augmented_scaled, Ytrain_no_augmented, Yval_no_augmented)"
   ]
  },
  {
   "cell_type": "markdown",
   "id": "bf66b3ba-3062-480c-8470-7a4f941ad7e9",
   "metadata": {},
   "source": [
    "### No augmented - PCA dataset"
   ]
  },
  {
   "cell_type": "code",
   "execution_count": 28,
   "id": "a7f1332f-49e0-4142-b04d-a7c9d016ce7a",
   "metadata": {},
   "outputs": [
    {
     "name": "stdout",
     "output_type": "stream",
     "text": [
      "Inference time per sample: 0.00023311376571655273 seconds\n",
      "Accuracy: 0.9540816326530612\n"
     ]
    },
    {
     "name": "stderr",
     "output_type": "stream",
     "text": [
      "C:\\Users\\Lenovo\\miniconda3\\envs\\DA\\lib\\site-packages\\sklearn\\neural_network\\_multilayer_perceptron.py:691: ConvergenceWarning: Stochastic Optimizer: Maximum iterations (200) reached and the optimization hasn't converged yet.\n",
      "  warnings.warn(\n"
     ]
    },
    {
     "data": {
      "text/plain": [
       "0.9540816326530612"
      ]
     },
     "execution_count": 28,
     "metadata": {},
     "output_type": "execute_result"
    }
   ],
   "source": [
    "validate_preprocessing_method(Xtrain_no_augmented_scaled_pca100, Xval_no_augmented_scaled_pca100, Ytrain_no_augmented, Yval_no_augmented)"
   ]
  },
  {
   "cell_type": "markdown",
   "id": "05d0a109-b558-426a-a507-c0cccacd3f16",
   "metadata": {},
   "source": [
    "## Choose suitable model family"
   ]
  },
  {
   "cell_type": "code",
   "execution_count": 33,
   "id": "238f6d6d-3026-44eb-b6df-bd1ee607057a",
   "metadata": {},
   "outputs": [
    {
     "data": {
      "text/plain": [
       "((1533, 861), (462, 861), (1533, 1), (462, 1))"
      ]
     },
     "execution_count": 33,
     "metadata": {},
     "output_type": "execute_result"
    }
   ],
   "source": [
    "Xtrain_scaled.shape, Xval_scaled.shape, Ytrain.shape, Yval.shape"
   ]
  },
  {
   "cell_type": "code",
   "execution_count": 34,
   "id": "2748b173-299d-43b6-b3de-8e92de2607d3",
   "metadata": {},
   "outputs": [],
   "source": [
    "def automatic_scoring(x, y, estimator):\n",
    "    average_score = cross_val_score(estimator=estimator, X=x, y=y, cv=5, scoring='accuracy', error_score=\"raise\").mean()\n",
    "    return average_score"
   ]
  },
  {
   "cell_type": "code",
   "execution_count": 40,
   "id": "c9150b51-401d-4e9a-bcec-92c5993b0716",
   "metadata": {},
   "outputs": [
    {
     "name": "stdout",
     "output_type": "stream",
     "text": [
      "Score of Random Forest Regression: 0.9543846202976305\n",
      "Score of KNN: 0.9315577696876796\n",
      "Score of MLP: 0.9550403440420684\n"
     ]
    }
   ],
   "source": [
    "rf_estimator = RandomForestClassifier()\n",
    "s = automatic_scoring(Xtrain_scaled, Ytrain[\"label\"], rf_estimator)\n",
    "print(f\"Score of Random Forest Regression: {s}\")\n",
    "\n",
    "knn_estimator = KNeighborsClassifier()\n",
    "s = automatic_scoring(Xtrain_scaled, Ytrain[\"label\"], knn_estimator)\n",
    "print(f\"Score of KNN: {s}\")\n",
    "\n",
    "mlp_estimator = MLPClassifier()\n",
    "s = automatic_scoring(Xtrain_scaled, Ytrain[\"label\"], mlp_estimator)\n",
    "print(f\"Score of MLP: {s}\")"
   ]
  },
  {
   "cell_type": "markdown",
   "id": "b150ae3f-a71e-477a-b969-b7d1a9814e07",
   "metadata": {},
   "source": [
    "## Find an optimal parameters for the best model family"
   ]
  },
  {
   "cell_type": "code",
   "execution_count": 41,
   "id": "4810073f-b1b9-4de7-800d-ca2425e46a0c",
   "metadata": {},
   "outputs": [
    {
     "name": "stdout",
     "output_type": "stream",
     "text": [
      "Number of possible models: 840\n"
     ]
    }
   ],
   "source": [
    "## do grid search to find the best model parameters\n",
    "# we will choose the param around the default values to check if the direction would be better (increasing or decreasing compared to the default ones) \n",
    "params_hidden_layer_sizes = [25, 35, 50, 75, 100, 200, 500]\n",
    "params_learning_rates = ['constant', 'invscaling', 'adaptive']\n",
    "params_learning_rate_inits = [0.0001, 0.001, 0.005, 0.0075, 0.01, 0.025, 0.05, 0.1]\n",
    "params_max_iters = [50, 100, 200, 250, 300]\n",
    "num_models = len(params_hidden_layer_sizes) * len(params_learning_rates) * len(params_learning_rate_inits) * len(params_max_iters)\n",
    "print(f\"Number of possible models: {num_models}\")"
   ]
  },
  {
   "cell_type": "code",
   "execution_count": 43,
   "id": "66794fb1-149f-4e71-a0ba-1aa6d1b53254",
   "metadata": {},
   "outputs": [
    {
     "name": "stderr",
     "output_type": "stream",
     "text": [
      "100%|██████████████████████████████████████████████████████████████████████████████████████████████████████████████████████| 840/840 [11:51<00:00,  1.18it/s]\n"
     ]
    }
   ],
   "source": [
    "## Train/val scheme\n",
    "import warnings\n",
    "warnings.filterwarnings(\"ignore\")\n",
    "\n",
    "best_params = None\n",
    "best_acc = float('-inf')  # Initialize with negative infinity\n",
    "start_time = time.time()\n",
    "with tqdm(total=num_models) as pbar:\n",
    "    for hls in params_hidden_layer_sizes:\n",
    "        for lr in params_learning_rates:\n",
    "            for lri in params_learning_rate_inits:\n",
    "                for miter in params_max_iters:\n",
    "                    model = MLPClassifier(solver=\"sgd\", \n",
    "                                         hidden_layer_sizes=hls, \n",
    "                                         learning_rate=lr, \n",
    "                                         learning_rate_init=lri, \n",
    "                                         max_iter=miter,\n",
    "                                         early_stopping=True,\n",
    "                                         n_iter_no_change=4,\n",
    "                                         random_state=42)\n",
    "                    model.fit(Xtrain_scaled, Ytrain['label'])\n",
    "                    ypreds = model.predict(Xval_scaled)\n",
    "                    acc = accuracy_score(Yval[\"label\"], ypreds)\n",
    "                    \n",
    "                    # Check if this set of hyperparameters is the best so far\n",
    "                    if acc > best_acc:\n",
    "                        best_acc = acc\n",
    "                        best_params = {\n",
    "                            'hidden_layer_sizes': hls,\n",
    "                            'learning_rate': lr,\n",
    "                            'learning_rate_init': lri,\n",
    "                            'max_iter': miter\n",
    "                        }\n",
    "                    pbar.update(1)\n",
    "\n",
    "end_time = time.time()"
   ]
  },
  {
   "cell_type": "code",
   "execution_count": 45,
   "id": "6dc9bb69-1ee8-42b1-83e3-f7c62354594b",
   "metadata": {},
   "outputs": [
    {
     "name": "stdout",
     "output_type": "stream",
     "text": [
      "Best Parameters: {'hidden_layer_sizes': 75, 'learning_rate': 'constant', 'learning_rate_init': 0.05, 'max_iter': 50}\n",
      "Best accuracy: 0.9848\n",
      "Total searching time: 711.7765 seconds\n"
     ]
    }
   ],
   "source": [
    "# Print the best hyperparameters and R-squared\n",
    "print(f'Best Parameters: {best_params}')\n",
    "print(f'Best accuracy: {best_acc:.4f}')\n",
    "print(f\"Total searching time: {round(end_time - start_time,4)} seconds\")"
   ]
  },
  {
   "cell_type": "markdown",
   "id": "3378ff38-2e12-449b-b702-eea684b81820",
   "metadata": {},
   "source": [
    "## Validate on test set"
   ]
  },
  {
   "cell_type": "code",
   "execution_count": 46,
   "id": "c531ea6a-da79-4951-96e0-294a1347a087",
   "metadata": {},
   "outputs": [
    {
     "name": "stdout",
     "output_type": "stream",
     "text": [
      "Train/val/test scoring comparison in case using only the training part:\n",
      "Accuracy training score: 1.00\n",
      "Accuracy validating score: 0.98\n",
      "Accuracy testing score: 0.99\n"
     ]
    }
   ],
   "source": [
    "model = MLPClassifier(solver=\"sgd\", \n",
    "                     hidden_layer_sizes=best_params['hidden_layer_sizes'], \n",
    "                     learning_rate=best_params['learning_rate'], \n",
    "                     learning_rate_init=best_params['learning_rate_init'], \n",
    "                     max_iter=best_params['max_iter'],\n",
    "                     early_stopping=True,\n",
    "                     n_iter_no_change=4,\n",
    "                     random_state=42)\n",
    "model.fit(Xtrain_scaled, Ytrain['label'])\n",
    "ytrainpreds = model.predict(Xtrain_scaled)\n",
    "yvalpreds = model.predict(Xval_scaled)\n",
    "ypreds = model.predict(Xtest_scaled)\n",
    "acctrain = accuracy_score(Ytrain[\"label\"], ytrainpreds)\n",
    "accval = accuracy_score(Yval[\"label\"], yvalpreds)\n",
    "acc = accuracy_score(Ytest[\"label\"], ypreds)\n",
    "print(f'Train/val/test scoring comparison in case using only the training part:')\n",
    "print(f'Accuracy training score: {acctrain:.2f}')\n",
    "print(f'Accuracy validating score: {accval:.2f}')\n",
    "print(f'Accuracy testing score: {acc:.2f}')"
   ]
  },
  {
   "cell_type": "code",
   "execution_count": null,
   "id": "36b84ad0-9b43-44a7-ba22-4be503287fda",
   "metadata": {},
   "outputs": [],
   "source": []
  },
  {
   "cell_type": "code",
   "execution_count": null,
   "id": "84afbf31-1269-47fb-8195-855c8d8663b4",
   "metadata": {},
   "outputs": [],
   "source": []
  },
  {
   "cell_type": "code",
   "execution_count": null,
   "id": "112d291b-6dab-47f0-819a-3f9e1dd8477b",
   "metadata": {},
   "outputs": [],
   "source": []
  },
  {
   "cell_type": "code",
   "execution_count": null,
   "id": "3c51c352-1371-4ccf-94f3-c14705b364d7",
   "metadata": {},
   "outputs": [],
   "source": []
  },
  {
   "cell_type": "code",
   "execution_count": null,
   "id": "1af85581-0491-4492-8547-0062411b044e",
   "metadata": {},
   "outputs": [],
   "source": []
  },
  {
   "cell_type": "code",
   "execution_count": null,
   "id": "c6e7ebde-28c3-43e8-810c-4c733ecb042e",
   "metadata": {},
   "outputs": [],
   "source": []
  },
  {
   "cell_type": "markdown",
   "id": "b7677393-ad78-46b1-99fe-f15275262644",
   "metadata": {},
   "source": [
    "## Export the best model and some related material"
   ]
  },
  {
   "cell_type": "code",
   "execution_count": 49,
   "id": "8faad108-9b85-4624-8140-17be244e4aeb",
   "metadata": {},
   "outputs": [
    {
     "data": {
      "text/plain": [
       "['mlp_classifier_PblHogResnet18_861Features_model_v02.pkl']"
      ]
     },
     "execution_count": 49,
     "metadata": {},
     "output_type": "execute_result"
    }
   ],
   "source": [
    "joblib.dump(model, 'mlp_classifier_PblHogResnet18_861Features_model_v02.pkl')"
   ]
  },
  {
   "cell_type": "code",
   "execution_count": 50,
   "id": "565e1232-de50-4a36-acf9-393d56ef211c",
   "metadata": {},
   "outputs": [
    {
     "data": {
      "text/plain": [
       "['scaler.pkl']"
      ]
     },
     "execution_count": 50,
     "metadata": {},
     "output_type": "execute_result"
    }
   ],
   "source": [
    "joblib.dump(scaler, 'scaler.pkl')"
   ]
  },
  {
   "cell_type": "code",
   "execution_count": null,
   "id": "73b182c0-afcb-4e4d-b157-303bd897131c",
   "metadata": {},
   "outputs": [],
   "source": []
  }
 ],
 "metadata": {
  "kernelspec": {
   "display_name": "Python 3 (ipykernel)",
   "language": "python",
   "name": "python3"
  },
  "language_info": {
   "codemirror_mode": {
    "name": "ipython",
    "version": 3
   },
   "file_extension": ".py",
   "mimetype": "text/x-python",
   "name": "python",
   "nbconvert_exporter": "python",
   "pygments_lexer": "ipython3",
   "version": "3.8.20"
  }
 },
 "nbformat": 4,
 "nbformat_minor": 5
}
