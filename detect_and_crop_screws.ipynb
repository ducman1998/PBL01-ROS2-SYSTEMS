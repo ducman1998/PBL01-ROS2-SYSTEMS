{
 "cells": [
  {
   "cell_type": "code",
   "execution_count": 2,
   "id": "92cbe407-5e37-4de8-812e-d9e677735477",
   "metadata": {},
   "outputs": [],
   "source": [
    "import matplotlib.pyplot as plt\n",
    "import numpy as np\n",
    "import cv2 \n",
    "import os \n",
    "from glob import glob\n",
    "from scipy.io import loadmat\n",
    "from tqdm import tqdm"
   ]
  },
  {
   "cell_type": "code",
   "execution_count": 6,
   "id": "0f7568ea-da59-45b7-8f0f-a83dceeca61b",
   "metadata": {
    "jupyter": {
     "source_hidden": true
    }
   },
   "outputs": [],
   "source": [
    "def intersection(line1, line2):\n",
    "    # Cartesian coordinates (x1, y1, x2, y2)\n",
    "    x1, y1, x2, y2 = line1\n",
    "    x3, y3, x4, y4 = line2\n",
    "    \n",
    "    # Calculate the determinant\n",
    "    denom = (x1 - x2) * (y3 - y4) - (y1 - y2) * (x3 - x4)\n",
    "    \n",
    "    if denom == 0:\n",
    "        return None  # Lines are parallel or coincident\n",
    "    \n",
    "    # Calculate the intersection point\n",
    "    intersect_x = ((x1 * y2 - y1 * x2) * (x3 - x4) - (x1 - x2) * (x3 * y4 - y3 * x4)) / denom\n",
    "    intersect_y = ((x1 * y2 - y1 * x2) * (y3 - y4) - (y1 - y2) * (x3 * y4 - y3 * x4)) / denom\n",
    "    \n",
    "    return (int(intersect_x), int(intersect_y))"
   ]
  },
  {
   "cell_type": "code",
   "execution_count": 7,
   "id": "6ac7525e-4fab-445e-82ea-3d8459cea65c",
   "metadata": {
    "jupyter": {
     "source_hidden": true
    }
   },
   "outputs": [],
   "source": [
    "def filter_nearby_intersections(intersections, threshold=10):\n",
    "    \"\"\"\n",
    "    Filters out intersections that are within the given threshold distance.\n",
    "    \n",
    "    Args:\n",
    "    - intersections: List of intersection points (x, y).\n",
    "    - threshold: The distance below which intersections are considered duplicates (default 10 pixels).\n",
    "    \n",
    "    Returns:\n",
    "    - A list of unique intersection points.\n",
    "    \"\"\"\n",
    "    filtered = []\n",
    "    \n",
    "    for point in intersections:\n",
    "        add_point = True\n",
    "        for filtered_point in filtered:\n",
    "            # Calculate Euclidean distance between the current point and each filtered point\n",
    "            dist = np.sqrt((point[0] - filtered_point[0]) ** 2 + (point[1] - filtered_point[1]) ** 2)\n",
    "            if dist < threshold:\n",
    "                add_point = False  # Don't add this point, it's too close to an existing one\n",
    "                break\n",
    "        if add_point:\n",
    "            filtered.append(point)\n",
    "    \n",
    "    return filtered"
   ]
  },
  {
   "cell_type": "code",
   "execution_count": 12,
   "id": "e2ec23e8-cc8b-4152-9035-f292f3600fed",
   "metadata": {
    "jupyter": {
     "source_hidden": true
    }
   },
   "outputs": [],
   "source": [
    "def perspective_transform(image, corners, im_size=900):\n",
    "    # Define the width and height for the output square\n",
    "    width, height = im_size, im_size\n",
    "    \n",
    "    # Define the destination points (square corners in the destination image)\n",
    "    dst_points = np.array([\n",
    "        [0, 0],  # top-left\n",
    "        [width - 1, 0],  # top-right\n",
    "        [width - 1, height - 1],  # bottom-right\n",
    "        [0, height - 1]  # bottom-left\n",
    "    ], dtype=\"float32\")\n",
    "    \n",
    "    # If 4 corners are detected, proceed\n",
    "    if len(corners) == 4:\n",
    "        # Sort the corners in a consistent order\n",
    "        sorted_corners = sorted(corners, key=lambda x: (x[1], x[0]))  # Sort by y-coordinate first, then by x-coordinate\n",
    "        \n",
    "        # Now that we have the sorted corners, we need to assign them to top-left, top-right, bottom-left, bottom-right\n",
    "        (tl, tr, br, bl) = sorted_corners\n",
    "        \n",
    "        # Further classify based on x-coordinate (top-left vs top-right and bottom-left vs bottom-right)\n",
    "        if tl[0] > tr[0]:\n",
    "            tl, tr = tr, tl\n",
    "        if bl[0] > br[0]:\n",
    "            bl, br = br, bl\n",
    "        \n",
    "        # Define the source points from the detected corners\n",
    "        src_points = np.array([tl, tr, br, bl], dtype=\"float32\")\n",
    "        \n",
    "        # Compute the perspective transform matrix\n",
    "        M = cv2.getPerspectiveTransform(src_points, dst_points)\n",
    "        \n",
    "        # Apply the perspective transformation\n",
    "        transformed_image = cv2.warpPerspective(image, M, (width, height))\n",
    "        \n",
    "        return transformed_image\n",
    "    else:\n",
    "        return None"
   ]
  },
  {
   "cell_type": "code",
   "execution_count": 8,
   "id": "38ee0402-67d3-4ede-a93f-47180fbcbb85",
   "metadata": {
    "jupyter": {
     "source_hidden": true
    }
   },
   "outputs": [],
   "source": [
    "def calculate_angle(line1, line2):\n",
    "    # Extract coordinates from the lines\n",
    "    x1, y1, x2, y2 = line1\n",
    "    x3, y3, x4, y4 = line2\n",
    "    \n",
    "    # Calculate direction vectors\n",
    "    vector1 = np.array([x2 - x1, y2 - y1])\n",
    "    vector2 = np.array([x4 - x3, y4 - y3])\n",
    "    \n",
    "    # Compute dot product and magnitudes\n",
    "    dot_product = np.dot(vector1, vector2)\n",
    "    mag1 = np.linalg.norm(vector1)\n",
    "    mag2 = np.linalg.norm(vector2)\n",
    "    \n",
    "    # Calculate the cosine of the angle\n",
    "    cos_theta = dot_product / (mag1 * mag2)\n",
    "    \n",
    "    # Ensure cos_theta is within valid range for acos to avoid errors due to floating point precision\n",
    "    cos_theta = np.clip(cos_theta, -1.0, 1.0)\n",
    "    \n",
    "    # Calculate the angle in radians\n",
    "    angle_rad = np.arccos(cos_theta)\n",
    "    \n",
    "    # Convert the angle to degrees\n",
    "    angle_deg = np.degrees(angle_rad)\n",
    "    \n",
    "    return angle_deg"
   ]
  },
  {
   "cell_type": "code",
   "execution_count": 9,
   "id": "efedc90f-cef3-4db8-9632-f589798f460f",
   "metadata": {
    "jupyter": {
     "source_hidden": true
    }
   },
   "outputs": [],
   "source": [
    "def find_bounding_rectangle(blob):\n",
    "    # find 4 longest lines\n",
    "    edges = cv2.Canny(blob, 150, 150, apertureSize=3)\n",
    "    lines = cv2.HoughLinesP(edges, 1, np.pi/180, threshold=100, minLineLength=100, maxLineGap=100)\n",
    "    line_details = []\n",
    "    \n",
    "    # Calculate the length of each line and store the details\n",
    "    if lines is not None:\n",
    "        for line in lines:\n",
    "            x1, y1, x2, y2 = line[0]\n",
    "            length = np.sqrt((x2 - x1) ** 2 + (y2 - y1) ** 2)\n",
    "            line_details.append((x1, y1, x2, y2, length))\n",
    "    \n",
    "    # Sort the lines by length in descending order\n",
    "    line_details.sort(key=lambda x: x[4], reverse=True)\n",
    "    \n",
    "    # Load the original image for drawing the lines\n",
    "    viz_im = im_rgb.copy()\n",
    "    \n",
    "    # Draw the 4 longest lines on the image\n",
    "    for i in range(min(10, len(line_details))):\n",
    "        x1, y1, x2, y2, length = line_details[i]\n",
    "        cv2.line(viz_im, (x1, y1), (x2, y2), (255, 0, 0), 6)  # Draw the line in gree\n",
    "\n",
    "    intersections = []\n",
    "    if lines is not None:\n",
    "        for i in range(min(10, len(line_details))):\n",
    "            for j in range(min(10, len(line_details))):\n",
    "                line1 = line_details[i][0:4]\n",
    "                line2 = line_details[j][0:4]\n",
    "                if calculate_angle(line1, line2) < 45:\n",
    "                    continue\n",
    "                intersect_point = intersection(line1, line2)\n",
    "                if intersect_point and 0 <= intersect_point[0] <= blob.shape[1] and 0 <= intersect_point[1] < blob.shape[0]:\n",
    "                    intersections.append(intersect_point)\n",
    "\n",
    "    filtered_intersectioins = filter_nearby_intersections(intersections, 30)\n",
    "    \n",
    "    for point in filtered_intersectioins:\n",
    "        cv2.circle(viz_im, point, 10, (0, 255, 0), -1)  # Draw intersections as green circles\n",
    "\n",
    "    return viz_im, filtered_intersectioins"
   ]
  },
  {
   "cell_type": "markdown",
   "id": "41cb1b0a-4c9b-4e70-9322-84ee775b68e5",
   "metadata": {},
   "source": [
    "## Segment the screw holder"
   ]
  },
  {
   "cell_type": "code",
   "execution_count": 5,
   "id": "ff4cab79-d4b8-49d4-a98d-763f8ed35b14",
   "metadata": {},
   "outputs": [
    {
     "data": {
      "text/plain": [
       "61"
      ]
     },
     "execution_count": 5,
     "metadata": {},
     "output_type": "execute_result"
    }
   ],
   "source": [
    "im_parent_dir = \"captured_screw_images\"\n",
    "output_im_dir = \"captured_screw_datasets\"\n",
    "os.makedirs(output_im_dir, exist_ok=True)\n",
    "\n",
    "train_dirs = [\"pose01\", \"pose02\", \"pose03\", \"pose04\", \"pose05\", \"pose05_color01\"]\n",
    "valid_dirs = [\"pose06\", \"pose06_color01\"]\n",
    "test_dirs = [\"pose07\", \"pose07_color01\"]\n",
    "\n",
    "im_fps = glob(os.path.join(im_parent_dir, \"*/*bmp\"))\n",
    "len(im_fps)"
   ]
  },
  {
   "cell_type": "code",
   "execution_count": 23,
   "id": "1eee4c92-e0bd-4920-b3f9-a22c0ed7648b",
   "metadata": {},
   "outputs": [
    {
     "name": "stderr",
     "output_type": "stream",
     "text": [
      "100%|██████████████████████████████████████████████████████████████████████████████████| 61/61 [00:04<00:00, 13.18it/s]\n"
     ]
    }
   ],
   "source": [
    "viz = False\n",
    "for fp in tqdm(im_fps):\n",
    "    im_bgr = cv2.imread(fp)\n",
    "    im_rgb = cv2.cvtColor(im_bgr, cv2.COLOR_RGB2BGR)\n",
    "    if viz:\n",
    "        plt.imshow(im_rgb)\n",
    "        plt.show()\n",
    "    \n",
    "    im_g = cv2.cvtColor(im_rgb, cv2.COLOR_BGR2GRAY)\n",
    "    im_bi = np.zeros_like(im_g)\n",
    "    # im_bi[im_g >= 160] = 255\n",
    "    im_bi[im_g >= 125] = 255\n",
    "    if viz:\n",
    "        plt.imshow(im_bi, cmap=\"gray\")\n",
    "        plt.show()\n",
    "    \n",
    "    # get biggest blob\n",
    "    num_labels, labels, stats, centroids = cv2.connectedComponentsWithStats(im_bi)\n",
    "    largest_label = 1 + np.argmax(stats[1:, cv2.CC_STAT_AREA])  # Skip the background (label 0)\n",
    "    largest_component = (labels == largest_label).astype(np.uint8) * 255\n",
    "    \n",
    "    # fill screw holes\n",
    "    # des = cv2.bitwise_not(largest_component)\n",
    "    cnts, hier = cv2.findContours(largest_component, cv2.RETR_CCOMP, cv2.CHAIN_APPROX_SIMPLE)\n",
    "    for cnt in cnts:\n",
    "        cv2.drawContours(largest_component,[cnt],0,255,-1)\n",
    "    \n",
    "    contours, _ = cv2.findContours(largest_component, cv2.RETR_EXTERNAL, cv2.CHAIN_APPROX_SIMPLE)\n",
    "    # Loop through each contour to fit a polygon\n",
    "    contour = contours[0] # get the first and only contour\n",
    "    # Approximate the polygon with a precision proportional to the perimeter\n",
    "    hull = cv2.convexHull(contour)\n",
    "    cv2.fillPoly(largest_component, [hull], color=255)\n",
    "\n",
    "    if viz:\n",
    "        plt.imshow(largest_component, cmap=\"gray\")\n",
    "        plt.show()\n",
    "    \n",
    "    viz_im, corners = find_bounding_rectangle(largest_component)\n",
    "    \n",
    "    if len(corners) == 4:\n",
    "        screw_im = perspective_transform(im_rgb, corners, im_size=416*3)\n",
    "        if screw_im is not None and viz:\n",
    "            cv2.line(screw_im, (300, 0), (300, 900), (255, 0, 0), 3)\n",
    "            cv2.line(screw_im, (600, 0), (600, 900), (255, 0, 0), 3)\n",
    "            cv2.line(screw_im, (0, 300), (900, 300), (255, 0, 0), 3)\n",
    "            cv2.line(screw_im, (0, 600), (900, 600), (255, 0, 0), 3)\n",
    "            plt.imshow(screw_im)\n",
    "            plt.show()\n",
    "\n",
    "        if screw_im is not None:\n",
    "            im_dir = os.path.dirname(fp).split(\"\\\\\")[-1]\n",
    "            if im_dir in train_dirs:\n",
    "                out_dir = os.path.join(output_im_dir, \"train\")\n",
    "            elif im_dir in valid_dirs:\n",
    "                out_dir = os.path.join(output_im_dir, \"validation\")\n",
    "            else:\n",
    "                out_dir = os.path.join(output_im_dir, \"test\")\n",
    "            os.makedirs(out_dir, exist_ok=True)\n",
    "            for r in range(3):\n",
    "                for c in range(3):\n",
    "                    crop_im = screw_im[r*416:(r+1)*416, c*416:(c+1)*416]\n",
    "                    cv2.imwrite(os.path.join(out_dir, f\"{im_dir}_{os.path.basename(fp).split('.')[0]}_{r+1}_{c+1}.jpg\"), cv2.cvtColor(crop_im, cv2.COLOR_RGB2BGR))\n",
    "    else:\n",
    "        print(f\"[ERROR] Got an error on the image at: {fp}\")\n",
    "        \n",
    "    if viz:   \n",
    "        plt.imshow(viz_im)"
   ]
  },
  {
   "cell_type": "code",
   "execution_count": null,
   "id": "9f7bd3d9-c6ef-4c56-81d2-0d97499a0e05",
   "metadata": {},
   "outputs": [],
   "source": []
  }
 ],
 "metadata": {
  "kernelspec": {
   "display_name": "Python 3 (ipykernel)",
   "language": "python",
   "name": "python3"
  },
  "language_info": {
   "codemirror_mode": {
    "name": "ipython",
    "version": 3
   },
   "file_extension": ".py",
   "mimetype": "text/x-python",
   "name": "python",
   "nbconvert_exporter": "python",
   "pygments_lexer": "ipython3",
   "version": "3.8.20"
  }
 },
 "nbformat": 4,
 "nbformat_minor": 5
}
