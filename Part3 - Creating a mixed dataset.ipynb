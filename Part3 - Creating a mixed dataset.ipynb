{
 "cells": [
  {
   "cell_type": "code",
   "execution_count": 1,
   "id": "45963987-28d6-4fe5-8f43-fb856d936684",
   "metadata": {},
   "outputs": [],
   "source": [
    "import matplotlib.pyplot as plt\n",
    "import numpy as np\n",
    "import cv2 \n",
    "import pandas as pd\n",
    "import shutil\n",
    "import os \n",
    "from glob import glob\n",
    "from tqdm import tqdm\n",
    "import torchvision.transforms as T\n",
    "from PIL import Image"
   ]
  },
  {
   "cell_type": "markdown",
   "id": "5567dfe5-56ed-449d-87cb-c7418d64abc4",
   "metadata": {},
   "source": [
    "## Organize provided images into one folder for each class"
   ]
  },
  {
   "cell_type": "code",
   "execution_count": 2,
   "id": "3aa1eb29-62a9-40f2-a952-3981ffdafb4a",
   "metadata": {},
   "outputs": [],
   "source": [
    "provided_image_dir = \"provided_screw_images\"\n",
    "output_image_dir = \"provided_screw_datasets\"\n",
    "for s in ['train', 'validation', 'test']:\n",
    "    for n in ['hex', 'irex', 'sq', 'tri', 'minus', 'plus', 'others']:\n",
    "        os.makedirs(os.path.join(output_image_dir, s, n), exist_ok=True)"
   ]
  },
  {
   "cell_type": "code",
   "execution_count": 3,
   "id": "c821e70b-ffbf-432b-b690-56d7a336bfdd",
   "metadata": {},
   "outputs": [
    {
     "name": "stdout",
     "output_type": "stream",
     "text": [
      "Num train images: 669 (images) | Num available labels: 669 (rows)\n",
      "Num validation images: 63 (images) | Num available labels: 63 (rows)\n",
      "Num test images: 33 (images) | Num available labels: 33 (rows)\n"
     ]
    }
   ],
   "source": [
    "for s in ['train', 'validation', 'test']:\n",
    "    image_fps = glob(os.path.join(provided_image_dir, s, \"*.jpg\"))\n",
    "    label_df = pd.read_csv(os.path.join(provided_image_dir, s, \"_classes.csv\"))\n",
    "    print(f\"Num {s} images: {len(image_fps)} (images) | Num available labels: {len(label_df)} (rows)\")\n",
    "    for i in range(7):\n",
    "        df = label_df[label_df.iloc[:,i+1] == 1]\n",
    "        class_name = label_df.columns[i+1]\n",
    "        class_name = class_name.lower().replace('-', '').strip()\n",
    "        for idx, r in df.iterrows():\n",
    "            filename = r['filename']\n",
    "            fp = os.path.join(provided_image_dir, s, filename)\n",
    "            out_fp = os.path.join(output_image_dir, s, class_name, filename)\n",
    "            if os.path.isfile(fp):\n",
    "                shutil.copy(fp, out_fp)"
   ]
  },
  {
   "cell_type": "markdown",
   "id": "f2bf6174-bfb2-48cb-8e33-d46c82366b9c",
   "metadata": {},
   "source": [
    "## Create a mixed dataset with augmentation for captured screws"
   ]
  },
  {
   "cell_type": "code",
   "execution_count": 4,
   "id": "924097c9-5c04-4093-be5c-b7cc344e369d",
   "metadata": {},
   "outputs": [],
   "source": [
    "output_mixed_dir = \"mixed_datasets\"\n",
    "os.makedirs(output_mixed_dir, exist_ok=True)\n",
    "for s in ['train', 'validation', 'test']:\n",
    "    os.makedirs(os.path.join(output_mixed_dir, s, \"irex\"), exist_ok=True)\n",
    "    os.makedirs(os.path.join(output_mixed_dir, s, \"others\"), exist_ok=True)"
   ]
  },
  {
   "cell_type": "code",
   "execution_count": 5,
   "id": "3f03bd41-8cc0-40a5-b5ef-fa6c637778a4",
   "metadata": {},
   "outputs": [
    {
     "data": {
      "text/plain": [
       "(762, 541)"
      ]
     },
     "execution_count": 5,
     "metadata": {},
     "output_type": "execute_result"
    }
   ],
   "source": [
    "provided_fps = glob(os.path.join(output_image_dir, \"*/*/*.jpg\"))\n",
    "captured_fps = glob(os.path.join(\"captured_screw_datasets\", \"*/*/*.jpg\"))\n",
    "len(provided_fps), len(captured_fps)"
   ]
  },
  {
   "cell_type": "markdown",
   "id": "14c80045-fc3d-46dd-b0cf-986ff6f99300",
   "metadata": {},
   "source": [
    "### Copy provided screw images into 2 final dataset folder"
   ]
  },
  {
   "cell_type": "code",
   "execution_count": 6,
   "id": "271e975a-57a7-4135-a9ee-eca1d8ae0d56",
   "metadata": {},
   "outputs": [
    {
     "name": "stderr",
     "output_type": "stream",
     "text": [
      "100%|█████████████████████████████████████████████████████████████████████████████████████████████████████████████████████| 762/762 [00:05<00:00, 138.99it/s]\n"
     ]
    }
   ],
   "source": [
    "set_name = None\n",
    "class_name = None\n",
    "for fp in tqdm(provided_fps):\n",
    "    if 'train' in fp:\n",
    "        set_name = \"train\"\n",
    "    elif 'validation' in fp:\n",
    "        set_name = \"validation\"\n",
    "    else:\n",
    "        set_name = \"test\"\n",
    "        \n",
    "    if 'irex' in fp:\n",
    "        class_name = \"irex\"\n",
    "    else:\n",
    "        class_name = \"others\" \n",
    "\n",
    "    output_fp = os.path.join(output_mixed_dir, set_name, class_name, os.path.basename(fp))\n",
    "    shutil.copy(fp, output_fp)"
   ]
  },
  {
   "cell_type": "markdown",
   "id": "7fb0fcbe-afa9-418f-bf39-84f08a9c4aa9",
   "metadata": {},
   "source": [
    "### Copy captured screw images into 2 final dataset folder (with augmentation)"
   ]
  },
  {
   "cell_type": "code",
   "execution_count": 7,
   "id": "2769034d-c3cb-4baf-82da-af57c16f2f29",
   "metadata": {},
   "outputs": [],
   "source": [
    "# Define augmentation pipeline\n",
    "transform = T.Compose([\n",
    "    T.RandomRotation(degrees=25, expand=False, fill=[222, 162, 112]),  # Rotate randomly within ±30 degrees\n",
    "    T.ColorJitter(brightness=0.35),  # Adjust brightness by a factor of ±20%\n",
    "])"
   ]
  },
  {
   "cell_type": "code",
   "execution_count": 8,
   "id": "f9e4558c-d4bc-4bfa-9dbe-55bf0abd8b17",
   "metadata": {},
   "outputs": [
    {
     "name": "stderr",
     "output_type": "stream",
     "text": [
      "100%|█████████████████████████████████████████████████████████████████████████████████████████████████████████████████████| 541/541 [00:02<00:00, 196.00it/s]\n"
     ]
    }
   ],
   "source": [
    "set_name = None\n",
    "class_name = None\n",
    "for fp in tqdm(captured_fps):\n",
    "    if 'train' in fp:\n",
    "        set_name = \"train\"\n",
    "    elif 'validation' in fp:\n",
    "        set_name = \"validation\"\n",
    "    else:\n",
    "        set_name = \"test\"\n",
    "        \n",
    "    if 'irex' in fp:\n",
    "        class_name = \"irex\"\n",
    "    else:\n",
    "        class_name = \"others\" \n",
    "\n",
    "    output_fp = os.path.join(output_mixed_dir, set_name, class_name, os.path.basename(fp))\n",
    "    shutil.copy(fp, output_fp)\n",
    "    if \"test\" in fp:\n",
    "        continue\n",
    "    image = Image.open(fp)\n",
    "    augmented_image_v1 = transform(image)\n",
    "    augmented_image_v2 = transform(image)\n",
    "    augmented_image_v1.save(output_fp.replace(\".jpg\", \"_v1.jpg\"))\n",
    "    augmented_image_v2.save(output_fp.replace(\".jpg\", \"_v2.jpg\"))"
   ]
  },
  {
   "cell_type": "markdown",
   "id": "0a8c7d57-ca94-4b13-b832-3b07a6cd52f7",
   "metadata": {},
   "source": [
    "### Collect image names and put into a dataframe"
   ]
  },
  {
   "cell_type": "code",
   "execution_count": 9,
   "id": "82fe3b55-9737-4c0c-ac01-39344464aebe",
   "metadata": {},
   "outputs": [
    {
     "name": "stderr",
     "output_type": "stream",
     "text": [
      "100%|████████████████████████████████████████████████████████████████████████████████████████████████████████████████| 2147/2147 [00:00<00:00, 178961.64it/s]\n"
     ]
    }
   ],
   "source": [
    "mixed_dataset_dict = {\"filename\": [], \"set\": [], \"is_augmented\": [], \"label\": []}\n",
    "for fp in tqdm(glob(os.path.join(output_mixed_dir, \"*/*/*.jpg\"))):\n",
    "    set_name = fp.split(\"\\\\\")[1]\n",
    "    filename = os.path.basename(fp)\n",
    "    if \"irex\" in fp:\n",
    "        label = 1\n",
    "    else:\n",
    "        label = 0\n",
    "    mixed_dataset_dict[\"filename\"].append(filename)\n",
    "    mixed_dataset_dict[\"set\"].append(set_name)\n",
    "    mixed_dataset_dict[\"is_augmented\"].append(1 if \"v1\" in filename or \"v2\" in filename else 0)\n",
    "    mixed_dataset_dict[\"label\"].append(label)"
   ]
  },
  {
   "cell_type": "code",
   "execution_count": 10,
   "id": "0b03d592-3aea-42ca-80f1-2dcc69f14160",
   "metadata": {},
   "outputs": [
    {
     "data": {
      "text/html": [
       "<div>\n",
       "<style scoped>\n",
       "    .dataframe tbody tr th:only-of-type {\n",
       "        vertical-align: middle;\n",
       "    }\n",
       "\n",
       "    .dataframe tbody tr th {\n",
       "        vertical-align: top;\n",
       "    }\n",
       "\n",
       "    .dataframe thead th {\n",
       "        text-align: right;\n",
       "    }\n",
       "</style>\n",
       "<table border=\"1\" class=\"dataframe\">\n",
       "  <thead>\n",
       "    <tr style=\"text-align: right;\">\n",
       "      <th></th>\n",
       "      <th>filename</th>\n",
       "      <th>set</th>\n",
       "      <th>is_augmented</th>\n",
       "      <th>label</th>\n",
       "    </tr>\n",
       "  </thead>\n",
       "  <tbody>\n",
       "    <tr>\n",
       "      <th>0</th>\n",
       "      <td>22_png.rf.31843c8a3d74795b58f1e718b5eed556.jpg</td>\n",
       "      <td>test</td>\n",
       "      <td>0</td>\n",
       "      <td>1</td>\n",
       "    </tr>\n",
       "    <tr>\n",
       "      <th>1</th>\n",
       "      <td>pose07_1_2_3.jpg</td>\n",
       "      <td>test</td>\n",
       "      <td>0</td>\n",
       "      <td>1</td>\n",
       "    </tr>\n",
       "    <tr>\n",
       "      <th>2</th>\n",
       "      <td>pose07_1_3_2.jpg</td>\n",
       "      <td>test</td>\n",
       "      <td>0</td>\n",
       "      <td>1</td>\n",
       "    </tr>\n",
       "    <tr>\n",
       "      <th>3</th>\n",
       "      <td>pose07_1_3_3.jpg</td>\n",
       "      <td>test</td>\n",
       "      <td>0</td>\n",
       "      <td>1</td>\n",
       "    </tr>\n",
       "    <tr>\n",
       "      <th>4</th>\n",
       "      <td>pose07_2_2_2.jpg</td>\n",
       "      <td>test</td>\n",
       "      <td>0</td>\n",
       "      <td>1</td>\n",
       "    </tr>\n",
       "  </tbody>\n",
       "</table>\n",
       "</div>"
      ],
      "text/plain": [
       "                                         filename   set  is_augmented  label\n",
       "0  22_png.rf.31843c8a3d74795b58f1e718b5eed556.jpg  test             0      1\n",
       "1                                pose07_1_2_3.jpg  test             0      1\n",
       "2                                pose07_1_3_2.jpg  test             0      1\n",
       "3                                pose07_1_3_3.jpg  test             0      1\n",
       "4                                pose07_2_2_2.jpg  test             0      1"
      ]
     },
     "execution_count": 10,
     "metadata": {},
     "output_type": "execute_result"
    }
   ],
   "source": [
    "mixed_dataset_df = pd.DataFrame.from_dict(mixed_dataset_dict)\n",
    "mixed_dataset_df.head()"
   ]
  },
  {
   "cell_type": "code",
   "execution_count": 18,
   "id": "cad67240-7e38-4199-a887-94c416decdaa",
   "metadata": {},
   "outputs": [
    {
     "data": {
      "text/plain": [
       "((2147, 4), (1301, 4), (846, 4))"
      ]
     },
     "execution_count": 18,
     "metadata": {},
     "output_type": "execute_result"
    }
   ],
   "source": [
    "mixed_dataset_df.shape, mixed_dataset_df[mixed_dataset_df.is_augmented == 0].shape, mixed_dataset_df[mixed_dataset_df.is_augmented == 1].shape"
   ]
  },
  {
   "cell_type": "code",
   "execution_count": 15,
   "id": "b6e31b55-b5a4-4b2c-8b9d-1f0f27f5dd74",
   "metadata": {},
   "outputs": [
    {
     "data": {
      "text/plain": [
       "((1533, 4), (462, 4), (152, 4))"
      ]
     },
     "execution_count": 15,
     "metadata": {},
     "output_type": "execute_result"
    }
   ],
   "source": [
    "mixed_dataset_df[mixed_dataset_df.set == \"train\"].shape, mixed_dataset_df[mixed_dataset_df.set == \"validation\"].shape, mixed_dataset_df[mixed_dataset_df.set == \"test\"].shape"
   ]
  },
  {
   "cell_type": "code",
   "execution_count": 20,
   "id": "9dbbf9ae-ed33-4d07-8dd7-0f19b799437c",
   "metadata": {},
   "outputs": [],
   "source": [
    "mixed_dataset_df.to_csv(\"mixed_dataset_v1.csv\", index=False)"
   ]
  },
  {
   "cell_type": "code",
   "execution_count": null,
   "id": "a20ba9a6-42c5-4e64-a9d2-c6db2ac25862",
   "metadata": {},
   "outputs": [],
   "source": []
  }
 ],
 "metadata": {
  "kernelspec": {
   "display_name": "Python 3 (ipykernel)",
   "language": "python",
   "name": "python3"
  },
  "language_info": {
   "codemirror_mode": {
    "name": "ipython",
    "version": 3
   },
   "file_extension": ".py",
   "mimetype": "text/x-python",
   "name": "python",
   "nbconvert_exporter": "python",
   "pygments_lexer": "ipython3",
   "version": "3.8.20"
  }
 },
 "nbformat": 4,
 "nbformat_minor": 5
}
